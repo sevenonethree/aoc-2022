{
 "cells": [
  {
   "cell_type": "code",
   "execution_count": null,
   "id": "cb415afa-fa32-452b-8a5c-6a5441f26f6b",
   "metadata": {},
   "outputs": [],
   "source": [
    "import numpy as np\n",
    "from dataclasses import dataclass\n",
    "from copy import deepcopy"
   ]
  },
  {
   "cell_type": "code",
   "execution_count": null,
   "id": "b4b3634a-f917-420e-a72f-f025cf2a0121",
   "metadata": {},
   "outputs": [],
   "source": [
    "with open('input.txt', 'r') as file:\n",
    "    data = file.read().replace('\\n', '')\n",
    "lines = [d for d in data.split('Monkey ') if d.strip() != '']"
   ]
  },
  {
   "cell_type": "markdown",
   "id": "fd7f91a7",
   "metadata": {},
   "source": [
    "## Challenge 1"
   ]
  },
  {
   "cell_type": "code",
   "execution_count": null,
   "id": "8e9d436d-057d-401a-8667-9cd82408a78a",
   "metadata": {},
   "outputs": [],
   "source": [
    "\n",
    "@dataclass\n",
    "class Monkey:\n",
    "    Id: int\n",
    "    items: np.ndarray = np.array([])\n",
    "    true_monkey: int = 0\n",
    "    false_monkey: int = 0\n",
    "    inspected_items: int = 0\n",
    "    pass\n",
    "\n",
    "@dataclass\n",
    "class Item:\n",
    "    worry_level: int\n",
    "    monkey_history: np.ndarray = np.array([])\n",
    "    pass"
   ]
  },
  {
   "cell_type": "code",
   "execution_count": null,
   "id": "e80abbe6",
   "metadata": {},
   "outputs": [],
   "source": [
    "def build_monkeys(): \n",
    "    monkeys = []\n",
    "    for monkey in lines:\n",
    "        monkey_business = monkey.split(':')\n",
    "        monkeys.append(\n",
    "            Monkey(\n",
    "                Id = int(monkey_business[0]), \n",
    "                items = np.array([int(i) for i in monkey_business[2].split('  ')[0].split(',')]),\n",
    "                true_monkey = int(monkey_business[5].split('monkey')[1][1:2]),\n",
    "                false_monkey = int(monkey_business[6].split('monkey')[1][1:2]))\n",
    "        )\n",
    "\n",
    "    return monkeys\n",
    "\n",
    "def test(monkey_id, test_value):\n",
    "    test_results = None\n",
    "\n",
    "    if monkey_id == 0:\n",
    "        test_results = test_value % 11 == 0\n",
    "    elif monkey_id == 1:\n",
    "        test_results = test_value % 7 == 0\n",
    "    elif monkey_id == 2: \n",
    "        test_results = test_value % 3 == 0\n",
    "    elif monkey_id == 3:\n",
    "        test_results =test_value % 5 == 0\n",
    "    elif monkey_id == 4:\n",
    "        test_results = test_value % 17 == 0\n",
    "    elif monkey_id == 5:\n",
    "        test_results = test_value % 13 == 0\n",
    "    elif monkey_id == 6:\n",
    "        test_results = test_value % 19 == 0\n",
    "    elif monkey_id == 7:\n",
    "        test_results = test_value % 2 == 0\n",
    "\n",
    "    return test_results\n",
    "\n",
    "def inspect(monkey_id, old_value):\n",
    "    new_value = old_value\n",
    "    \n",
    "    if monkey_id == 0:\n",
    "        new_value = old_value * 3\n",
    "    elif monkey_id == 1:\n",
    "        new_value = old_value * old_value\n",
    "    elif monkey_id == 2: \n",
    "        new_value = old_value + 1\n",
    "    elif monkey_id == 3:\n",
    "        new_value = old_value + 8\n",
    "    elif monkey_id == 4:\n",
    "        new_value = old_value + 3\n",
    "    elif monkey_id == 5:\n",
    "        new_value = old_value + 4\n",
    "    elif monkey_id == 6:\n",
    "        new_value = old_value * 17\n",
    "    elif monkey_id == 7:\n",
    "        new_value = old_value + 7\n",
    "\n",
    "    return new_value\n"
   ]
  },
  {
   "cell_type": "code",
   "execution_count": null,
   "id": "42bab4a6-fbbb-4ee8-b338-1a068ca477d1",
   "metadata": {},
   "outputs": [],
   "source": [
    "monkeys = build_monkeys()\n",
    "monkeys\n",
    "\n",
    "# monkeys = build_monkeys()\n",
    "\n",
    "def monkey_around(monkeys, rounds = 1):\n",
    "    retval = deepcopy(monkeys)\n",
    "    for r in range(rounds):\n",
    "        for monkey in retval:\n",
    "            # Inspect\n",
    "            items_array = inspect(monkey.Id, monkey.items)\n",
    "            monkey.inspected_items += len(monkey.items)\n",
    "            # Boredom\n",
    "            monkey.items = items_array//3\n",
    "            # Test\n",
    "            next_monkey = [retval[monkey.Id].true_monkey if test(retval[monkey.Id].Id, item) else retval[monkey.Id].false_monkey for item in retval[monkey.Id].items]\n",
    "            # Pass\n",
    "            for i in range(len(monkey.items)):\n",
    "                retval[next_monkey[i]].items = np.append(retval[next_monkey[i]].items,monkey.items[i])\n",
    "\n",
    "            retval[monkey.Id].items = np.array([])\n",
    "\n",
    "    return retval\n",
    "    pass\n",
    "\n",
    "inspected = [m.inspected_items for m in monkey_around(monkeys,20)]\n",
    "inspected.sort()\n",
    "inspected[-1] * inspected[-2]"
   ]
  },
  {
   "cell_type": "markdown",
   "id": "7b115850",
   "metadata": {},
   "source": [
    "## Challenge 2"
   ]
  },
  {
   "cell_type": "code",
   "execution_count": null,
   "id": "49e6f62b",
   "metadata": {},
   "outputs": [],
   "source": [
    "monkeys = build_monkeys()\n",
    "mod = 1\n",
    "for test_value in [3, 5, 17,13, 19, 2]:\n",
    "    mod *= test_value\n",
    "\n",
    "def monkey_around(monkeys, rounds = 1):\n",
    "    retval = deepcopy(monkeys)\n",
    "    for r in range(rounds):\n",
    "        for monkey in retval:\n",
    "            # Inspect\n",
    "            items_array = inspect(monkey.Id, monkey.items)\n",
    "            monkey.inspected_items += len(monkey.items)\n",
    "            # normalize numbers\n",
    "            items_array %= mod\n",
    "            # Test\n",
    "            next_monkey = [retval[monkey.Id].true_monkey if test(retval[monkey.Id].Id, item) else retval[monkey.Id].false_monkey for item in retval[monkey.Id].items]\n",
    "            # Pass\n",
    "            for i in range(len(monkey.items)):\n",
    "                retval[next_monkey[i]].items = np.append(retval[next_monkey[i]].items,monkey.items[i])\n",
    "\n",
    "            retval[monkey.Id].items = np.array([])\n",
    "\n",
    "    return retval\n",
    "    pass\n",
    "\n",
    "inspected = [m.inspected_items for m in monkey_around(monkeys,20)]\n",
    "inspected.sort()\n",
    "inspected[-1] * inspected[-2]"
   ]
  }
 ],
 "metadata": {
  "kernelspec": {
   "display_name": "Python 3 (ipykernel)",
   "language": "python",
   "name": "python3"
  },
  "language_info": {
   "codemirror_mode": {
    "name": "ipython",
    "version": 3
   },
   "file_extension": ".py",
   "mimetype": "text/x-python",
   "name": "python",
   "nbconvert_exporter": "python",
   "pygments_lexer": "ipython3",
   "version": "3.9.13"
  }
 },
 "nbformat": 4,
 "nbformat_minor": 5
}
