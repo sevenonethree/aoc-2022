{
 "cells": [
  {
   "cell_type": "code",
   "execution_count": 26,
   "id": "84417364-bc06-487c-81cc-cc0e936970c0",
   "metadata": {},
   "outputs": [],
   "source": [
    "import numpy as np"
   ]
  },
  {
   "cell_type": "code",
   "execution_count": 368,
   "id": "e29ec5ee",
   "metadata": {},
   "outputs": [],
   "source": [
    "with open('./input.txt','r') as f:\n",
    "    lines = f.readlines()\n",
    "\n",
    "lines = [line.replace('\\n', '') for line in lines]"
   ]
  },
  {
   "cell_type": "markdown",
   "id": "fd7f91a7",
   "metadata": {},
   "source": [
    "## Challenge 1"
   ]
  },
  {
   "cell_type": "code",
   "execution_count": 370,
   "id": "0a4dbb89-273d-45e1-9e04-9e941f235abb",
   "metadata": {},
   "outputs": [],
   "source": [
    "lines = [line.replace('\\n', '') for line in lines]\n",
    "trees = np.array([[int(tree) for tree in layer] for layer in lines])\n",
    "\n",
    "grid = np.array(trees)\n"
   ]
  },
  {
   "cell_type": "code",
   "execution_count": 371,
   "id": "e80abbe6",
   "metadata": {},
   "outputs": [
    {
     "name": "stdout",
     "output_type": "stream",
     "text": [
      "Visible trees: 1807\n"
     ]
    }
   ],
   "source": [
    "(rows, cols) = grid.shape\n",
    "is_visible = 0\n",
    "visArray = np.full((rows,cols), False)\n",
    "\n",
    "for r in range(rows):\n",
    "    for c in range(cols):\n",
    "        cur_tree = grid[r,c]\n",
    "        north = np.all(cur_tree > grid[:r,c])\n",
    "        east = np.all(cur_tree > grid[r,c+1:])\n",
    "        south = np.all(cur_tree > grid[r+1:,c])\n",
    "        west = np.all(cur_tree > grid[r,:c])\n",
    "        can_see = np.any([north, east, south, west])\n",
    "        is_visible += 1 if can_see else 0\n",
    "        visArray[r,c] = can_see\n",
    "print(f'Visible trees: {is_visible}')"
   ]
  },
  {
   "cell_type": "markdown",
   "id": "7b115850",
   "metadata": {},
   "source": [
    "## Challenge 2"
   ]
  }
 ],
 "metadata": {
  "kernelspec": {
   "display_name": "Python 3 (ipykernel)",
   "language": "python",
   "name": "python3"
  },
  "language_info": {
   "codemirror_mode": {
    "name": "ipython",
    "version": 3
   },
   "file_extension": ".py",
   "mimetype": "text/x-python",
   "name": "python",
   "nbconvert_exporter": "python",
   "pygments_lexer": "ipython3",
   "version": "3.9.13"
  }
 },
 "nbformat": 4,
 "nbformat_minor": 5
}
