{
 "cells": [
  {
   "cell_type": "code",
   "execution_count": 83,
   "id": "e29ec5ee",
   "metadata": {},
   "outputs": [],
   "source": [
    "with open('./input.txt','r') as f:\n",
    "    lines = f.readlines()\n",
    "\n",
    "lines = [line.replace('\\n', '') for line in lines]"
   ]
  },
  {
   "cell_type": "markdown",
   "id": "fd7f91a7",
   "metadata": {},
   "source": [
    "## Challenge 1"
   ]
  },
  {
   "cell_type": "code",
   "execution_count": null,
   "id": "e80abbe6",
   "metadata": {},
   "outputs": [],
   "source": []
  },
  {
   "cell_type": "markdown",
   "id": "7b115850",
   "metadata": {},
   "source": [
    "## Challenge 2"
   ]
  },
  {
   "cell_type": "code",
   "execution_count": null,
   "id": "49e6f62b",
   "metadata": {},
   "outputs": [],
   "source": []
  }
 ],
 "metadata": {
  "kernelspec": {
   "display_name": "Python 3 (ipykernel)",
   "language": "python",
   "name": "python3"
  },
  "language_info": {
   "codemirror_mode": {
    "name": "ipython",
    "version": 3
   },
   "file_extension": ".py",
   "mimetype": "text/x-python",
   "name": "python",
   "nbconvert_exporter": "python",
   "pygments_lexer": "ipython3",
   "version": "3.9.13"
  }
 },
 "nbformat": 4,
 "nbformat_minor": 5
}
