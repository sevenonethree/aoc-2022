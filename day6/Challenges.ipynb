{
 "cells": [
  {
   "cell_type": "code",
   "execution_count": 1,
   "id": "e29ec5ee",
   "metadata": {},
   "outputs": [],
   "source": [
    "with open('./input.txt','r') as f:\n",
    "    lines = f.readlines()\n",
    "\n",
    "lines = [line.replace('\\n', '') for line in lines]"
   ]
  },
  {
   "cell_type": "markdown",
   "id": "fd7f91a7",
   "metadata": {},
   "source": [
    "## Challenge 1"
   ]
  },
  {
   "cell_type": "code",
   "execution_count": 14,
   "id": "e80abbe6",
   "metadata": {},
   "outputs": [
    {
     "name": "stdout",
     "output_type": "stream",
     "text": [
      "1152 vtqm 1156\n",
      "Answer: 1155\n"
     ]
    }
   ],
   "source": [
    "start = 0\n",
    "end = 4\n",
    "finished = False\n",
    "while not finished:\n",
    "    finished = True if len(set(lines[0][start:end])) == 4 else False\n",
    "    start +=1\n",
    "    end +=1\n",
    "\n",
    "print(start, lines[0][start:end], end)\n",
    "print(f'Answer: {end -1}')"
   ]
  },
  {
   "cell_type": "markdown",
   "id": "7b115850",
   "metadata": {},
   "source": [
    "## Challenge 2"
   ]
  },
  {
   "cell_type": "code",
   "execution_count": 17,
   "id": "49e6f62b",
   "metadata": {},
   "outputs": [
    {
     "name": "stdout",
     "output_type": "stream",
     "text": [
      "2776 zprftbqvdsghnn 2790\n",
      "Answer: 2789\n"
     ]
    }
   ],
   "source": [
    "start = 0\n",
    "end = 14\n",
    "finished = False\n",
    "while not finished:\n",
    "    finished = True if (len(set(lines[0][start:end])) == 14) or end > len(lines[0]) else False\n",
    "    start +=1\n",
    "    end +=1\n",
    "\n",
    "print(start, lines[0][start:end], end)\n",
    "print(f'Answer: {end -1}')"
   ]
  }
 ],
 "metadata": {
  "kernelspec": {
   "display_name": "Python 3 (ipykernel)",
   "language": "python",
   "name": "python3"
  },
  "language_info": {
   "codemirror_mode": {
    "name": "ipython",
    "version": 3
   },
   "file_extension": ".py",
   "mimetype": "text/x-python",
   "name": "python",
   "nbconvert_exporter": "python",
   "pygments_lexer": "ipython3",
   "version": "3.9.13"
  }
 },
 "nbformat": 4,
 "nbformat_minor": 5
}
