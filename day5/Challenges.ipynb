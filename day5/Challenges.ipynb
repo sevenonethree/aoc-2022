{
 "cells": [
  {
   "cell_type": "code",
   "execution_count": null,
   "id": "e29ec5ee",
   "metadata": {},
   "outputs": [],
   "source": [
    "with open('./input.txt','r') as f:\n",
    "    lines = f.readlines()\n",
    "\n",
    "lines = [line.replace('\\n', '') for line in lines]"
   ]
  },
  {
   "cell_type": "markdown",
   "id": "fd7f91a7",
   "metadata": {},
   "source": [
    "## Challenge 1"
   ]
  },
  {
   "cell_type": "code",
   "execution_count": null,
   "id": "42222726",
   "metadata": {},
   "outputs": [],
   "source": [
    "def split_boxes(layer):\n",
    "    return [layer[i:i+3] for i in range(0, len(layer), 4)]\n",
    "\n",
    "def get_shape(obj):\n",
    "    c = None\n",
    "    if type(obj[0]) is list:\n",
    "        c = len(obj[0])\n",
    "    else:\n",
    "        c = 0\n",
    "\n",
    "    r = len(obj)\n",
    "    return [r, c]\n",
    "\n",
    "def pivot_to_stacks(current_state):\n",
    "    [current_height, num_stacks] = get_shape(current_state)\n",
    "    output_state =[]\n",
    "    \n",
    "    for stack in range(num_stacks):\n",
    "        current_stack = []\n",
    "        for row in range(current_height):\n",
    "            current_spot = current_state[row][stack]\n",
    "            if current_spot.strip() != '':\n",
    "                current_stack.append(current_spot)\n",
    "        output_state.append(current_stack)\n",
    "    return output_state\n",
    "\n",
    "def parse_command(command):\n",
    "    split_text = command.split()\n",
    "    command_object = {\n",
    "        'boxes_to_move': int(split_text[1]),\n",
    "        'from': int(split_text[3]),\n",
    "        'to': int(split_text[5])\n",
    "    }\n",
    "\n",
    "    return command_object\n",
    "\n",
    "def execute_command(command, current_state):\n",
    "    boxes = command[\"boxes_to_move\"]\n",
    "    move_from = command[\"from\"]-1\n",
    "    move_to = command[\"to\"]-1\n",
    "    \n",
    "    for i in range(boxes):        \n",
    "        new_state = current_state\n",
    "        crate = new_state[command[\"from\"]-1].pop()\n",
    "        new_state[command[\"to\"]-1].append(crate)\n",
    "    return new_state\n",
    "\n",
    "def test():\n",
    "    box_lines = lines[:8]\n",
    "    commands = [parse_command(command) for command in lines[10:]]\n",
    "    layers = [split_boxes(layer) for layer in box_lines]\n",
    "    stacked_boxes = pivot_to_stacks(layers[::-1])\n",
    "    final_state = [execute_command(command, stacked_boxes) for command in commands]\n",
    "    \n",
    "    return final_state\n",
    "\n",
    "state = test()\n",
    "\n",
    "for i in range(0,len(state[-1])):\n",
    "    print(state[-1][i][-1])"
   ]
  },
  {
   "cell_type": "markdown",
   "id": "7b115850",
   "metadata": {},
   "source": [
    "## Challenge 2"
   ]
  },
  {
   "cell_type": "code",
   "execution_count": null,
   "id": "49e6f62b",
   "metadata": {},
   "outputs": [],
   "source": [
    "def execute_command(command, current_state):\n",
    "    boxes = command[\"boxes_to_move\"]\n",
    "    move_from = command[\"from\"]-1\n",
    "    move_to = command[\"to\"]-1\n",
    "    new_state = current_state\n",
    "    crates = new_state[command[\"from\"]-1][-boxes:]\n",
    "    \n",
    "    # get min in case the number of boxes requested is more than in the stack\n",
    "    for i in range(min(boxes, len(new_state[move_from]))):        \n",
    "        crate = new_state[move_from].pop()\n",
    "    \n",
    "    for crate in crates:\n",
    "        new_state[move_to].append(crate)\n",
    "        \n",
    "    return new_state\n",
    "\n",
    "\n",
    "def test():\n",
    "    box_lines = lines[:8]\n",
    "    commands = [parse_command(command) for command in lines[10:]]\n",
    "    layers = [split_boxes(layer) for layer in box_lines]\n",
    "    stacked_boxes = pivot_to_stacks(layers[::-1])\n",
    "    final_state = [execute_command(command, stacked_boxes) for command in commands]\n",
    "    return final_state\n",
    "\n",
    "\n",
    "state = test()\n",
    "\n",
    "for i in range(0,len(state[-1])):\n",
    "    print(state[-1][i][-1])"
   ]
  }
 ],
 "metadata": {
  "kernelspec": {
   "display_name": "Python 3 (ipykernel)",
   "language": "python",
   "name": "python3"
  },
  "language_info": {
   "codemirror_mode": {
    "name": "ipython",
    "version": 3
   },
   "file_extension": ".py",
   "mimetype": "text/x-python",
   "name": "python",
   "nbconvert_exporter": "python",
   "pygments_lexer": "ipython3",
   "version": "3.9.13"
  }
 },
 "nbformat": 4,
 "nbformat_minor": 5
}
