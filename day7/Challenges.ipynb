{
 "cells": [
  {
   "cell_type": "code",
   "execution_count": 1,
   "id": "e29ec5ee",
   "metadata": {},
   "outputs": [],
   "source": [
    "with open('./input.txt','r') as f:\n",
    "    lines = f.readlines()\n",
    "\n",
    "lines = [line.replace('\\n', '') for line in lines]"
   ]
  },
  {
   "cell_type": "markdown",
   "id": "fd7f91a7",
   "metadata": {},
   "source": [
    "## Challenge 1"
   ]
  },
  {
   "cell_type": "code",
   "execution_count": 3,
   "id": "e80abbe6",
   "metadata": {},
   "outputs": [
    {
     "data": {
      "text/plain": [
       "2061777"
      ]
     },
     "execution_count": 3,
     "metadata": {},
     "output_type": "execute_result"
    }
   ],
   "source": [
    "class SimpleFS:\n",
    "    def __init__(self):\n",
    "        self.current_path = []\n",
    "        self.paths = []\n",
    "        self.files = {}\n",
    "        self.in_ls = False\n",
    "        return\n",
    "    \n",
    "def do_it(fs, commands):\n",
    "    current_path = '/'.join(fs.current_path).replace('//', '/')\n",
    "    for command in commands:\n",
    "        if ' cd' in command:\n",
    "            new_dir = command[4:].strip()\n",
    "            fs.in_ls = False\n",
    "            if '..' not in command:\n",
    "                if new_dir not in fs.paths:\n",
    "                    fs.paths.append(append_path(fs.current_path, new_dir.strip()))\n",
    "                    \n",
    "            elif '..' in command and len(fs.current_path) > 1:\n",
    "                fs.current_path.pop()\n",
    "                \n",
    "        elif ' ls' in command:\n",
    "            pass\n",
    "            # this doesn't matter. no information gained\n",
    "        elif 'dir' in command:\n",
    "            pass\n",
    "            # print(f'disregard dir. only matters if we cd into it. current path is {fs.current_path}')\n",
    "                \n",
    "        else:\n",
    "            # this is a file\n",
    "            [size, name] = command.split()\n",
    "            keyname = '/'.join(fs.current_path) + f'/{name}'\n",
    "            fs.files[keyname] = ({'size': int(size), 'name': name, 'path': '/'.join(fs.current_path)})\n",
    "\n",
    "    return (fs.paths, fs.files)\n",
    "\n",
    "\n",
    "def append_path(path_list, new_path):\n",
    "    path_list.append(new_path)\n",
    "    return '/'.join(path_list)\n",
    "\n",
    "\n",
    "def get_total_size(path_name):\n",
    "    return sum([v['size'] for k,v in { key:value for (key,value) in fs.files.items() if path_name in value['path']}.items()])\n",
    "\n",
    "\n",
    "fs = SimpleFS()\n",
    "(paths, files) = do_it(fs, lines)\n",
    "sum([small[1] for small in list(filter(lambda s: s[1] <=100000, [(path, size) for path in paths for size in [get_total_size(path)]]))])\n"
   ]
  },
  {
   "cell_type": "markdown",
   "id": "7b115850",
   "metadata": {},
   "source": [
    "## Challenge 2"
   ]
  },
  {
   "cell_type": "code",
   "execution_count": null,
   "id": "49e6f62b",
   "metadata": {},
   "outputs": [],
   "source": []
  }
 ],
 "metadata": {
  "kernelspec": {
   "display_name": "Python 3 (ipykernel)",
   "language": "python",
   "name": "python3"
  },
  "language_info": {
   "codemirror_mode": {
    "name": "ipython",
    "version": 3
   },
   "file_extension": ".py",
   "mimetype": "text/x-python",
   "name": "python",
   "nbconvert_exporter": "python",
   "pygments_lexer": "ipython3",
   "version": "3.9.13"
  }
 },
 "nbformat": 4,
 "nbformat_minor": 5
}
